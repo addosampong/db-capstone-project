{
 "cells": [
  {
   "cell_type": "markdown",
   "id": "e95bcbbe",
   "metadata": {},
   "source": [
    "### Database Client"
   ]
  },
  {
   "cell_type": "markdown",
   "id": "00165f39",
   "metadata": {},
   "source": [
    "### Set up the client"
   ]
  },
  {
   "cell_type": "markdown",
   "id": "8b23fadc",
   "metadata": {},
   "source": [
    "#### Task 3: Establish database connection"
   ]
  },
  {
   "cell_type": "markdown",
   "id": "16897068",
   "metadata": {},
   "source": [
    "To establish a connection between Python and the database, the following steps below were taken."
   ]
  },
  {
   "cell_type": "markdown",
   "id": "3e6ff814",
   "metadata": {},
   "source": [
    "#### Step 1: Install mysql-connector\n",
    "\n",
    "This step involves installing the Python mysql-connector API which will be used to create the connection between Python and the database."
   ]
  },
  {
   "cell_type": "code",
   "execution_count": 4,
   "id": "c6efaed7",
   "metadata": {},
   "outputs": [
    {
     "name": "stdout",
     "output_type": "stream",
     "text": [
      "Collecting mysql-connector-python\n",
      "  Using cached mysql_connector_python-8.0.32-py2.py3-none-any.whl (381 kB)\n",
      "Requirement already satisfied: protobuf<=3.20.3,>=3.11.0 in /Users/dataceum/opt/anaconda3/lib/python3.9/site-packages (from mysql-connector-python) (3.20.1)\n",
      "Installing collected packages: mysql-connector-python\n",
      "Successfully installed mysql-connector-python-8.0.32\n"
     ]
    }
   ],
   "source": [
    "!pip install mysql-connector-python"
   ]
  },
  {
   "cell_type": "markdown",
   "id": "a9293b90",
   "metadata": {},
   "source": [
    "#### Step 2: Import mysql.connector\n",
    "\n",
    "After the mysql-connector API is installed, we then import it into the Jupyter Notebook and give it an alias of **connector**"
   ]
  },
  {
   "cell_type": "code",
   "execution_count": 5,
   "id": "dde5bafd",
   "metadata": {},
   "outputs": [],
   "source": [
    "import mysql.connector as connector"
   ]
  },
  {
   "cell_type": "markdown",
   "id": "ccecc36f",
   "metadata": {},
   "source": [
    "#### Step 3: Verify database connection\n",
    "\n",
    "To verify that the mysql-connector API was successfully installed and imported, we created a connection instance and passed in our database credentials as arguments and then run the command. since there was no error thrown, the connection to the database was deemed successful."
   ]
  },
  {
   "cell_type": "code",
   "execution_count": 10,
   "id": "95446089",
   "metadata": {},
   "outputs": [],
   "source": [
    "#creating an instance of the connector module\n",
    "#after the database operations, we obfuscated the database username and password from the connection string\n",
    "connection = connector.connect(user = \"****\"\n",
    "                              password = \"****\",\n",
    "                              host = \"localhost\",\n",
    "                              db=\"littlelemondb\")"
   ]
  },
  {
   "cell_type": "markdown",
   "id": "64011712",
   "metadata": {},
   "source": [
    "### Add query functions"
   ]
  },
  {
   "cell_type": "markdown",
   "id": "0dda8720",
   "metadata": {},
   "source": [
    "#### Task 1: Connect to and interact with database"
   ]
  },
  {
   "cell_type": "markdown",
   "id": "96f5eaba",
   "metadata": {},
   "source": [
    "This step is similar to **Step 3** above so we will skip it. But we will instantiate a **cursor** object from the connector module."
   ]
  },
  {
   "cell_type": "code",
   "execution_count": 11,
   "id": "da5acd92",
   "metadata": {},
   "outputs": [],
   "source": [
    "#creating the cursor object\n",
    "cursor = connection.cursor()"
   ]
  },
  {
   "cell_type": "markdown",
   "id": "70e26f67",
   "metadata": {},
   "source": [
    "#### Task 2: Query database"
   ]
  },
  {
   "cell_type": "markdown",
   "id": "afc77373",
   "metadata": {},
   "source": [
    "In this step, we will query the database to show all tables in the database."
   ]
  },
  {
   "cell_type": "code",
   "execution_count": 19,
   "id": "76dd905c",
   "metadata": {},
   "outputs": [],
   "source": [
    "#MySQL query to show all tables in the database\n",
    "show_tables_query = \"\"\"SHOW TABLES;\"\"\"\n",
    "\n",
    "#calling the execute method of the cursor object to execute the MySQL query\n",
    "cursor.execute(show_tables_query)"
   ]
  },
  {
   "cell_type": "code",
   "execution_count": 20,
   "id": "47d0f683",
   "metadata": {},
   "outputs": [
    {
     "name": "stdout",
     "output_type": "stream",
     "text": [
      "[('Bookings',), ('customer_order_view',), ('Customers',), ('Employees',), ('menu_quantity_view',), ('MenuItems',), ('Menus',), ('Orders',), ('orders_view',)]\n"
     ]
    }
   ],
   "source": [
    "#returning the query results into a variable (results) and printing them out\n",
    "results = cursor.fetchall()\n",
    "print(results)"
   ]
  },
  {
   "cell_type": "markdown",
   "id": "447ecfe5",
   "metadata": {},
   "source": [
    "#### Task 3: Query the database with JOIN"
   ]
  },
  {
   "cell_type": "markdown",
   "id": "6040fba2",
   "metadata": {},
   "source": [
    "Little Lemon wants to get the full name and contact details for every customer that has placed an order greater than $60 for a promotional campaign. To do this, we will write a MySQL query to join the appropriate database tables to extract the appropriate customer and orders data."
   ]
  },
  {
   "cell_type": "code",
   "execution_count": 25,
   "id": "c9e81b7c",
   "metadata": {},
   "outputs": [],
   "source": [
    "#MySQL query to join appropriate tables to extract the required data\n",
    "get_customer_orders = \"\"\"SELECT CONCAT(c.FirstName, \" \", c.LastName) AS \"Customer\",\n",
    "                                        c.ContactNumber AS \"Phone Number\",\n",
    "                                        c.Email AS \"Email\",\n",
    "                                        ROUND((o.BillAmount * o.Quantity), 2) AS \"Total Cost\"\n",
    "                        FROM Customers c\n",
    "                        INNER JOIN Bookings b ON c.CustomerID = b.CustomerID\n",
    "                        INNER JOIN Orders o ON b.BookingID = o.BookingID\n",
    "                        WHERE ROUND((o.BillAmount * o.Quantity), 2) > 60;\"\"\"\n",
    "\n",
    "#executing the query with the execute method of the cursor object\n",
    "cursor.execute(get_customer_orders)"
   ]
  },
  {
   "cell_type": "code",
   "execution_count": 26,
   "id": "dfda1fc5",
   "metadata": {},
   "outputs": [
    {
     "name": "stdout",
     "output_type": "stream",
     "text": [
      "('Customer', 'Phone Number', 'Email', 'Total Cost')\n",
      "[('Anna Iversen', '555-666-777', 'anna@email.com', 172), ('Anna Iversen', '555-666-777', 'anna@email.com', 344)]\n"
     ]
    }
   ],
   "source": [
    "#get the column names and print them out\n",
    "cols = cursor.column_names\n",
    "print(cols)\n",
    "\n",
    "#returning the query results into a variable (join_results) and printing them out\n",
    "join_results = cursor.fetchall()\n",
    "print(join_results)"
   ]
  },
  {
   "cell_type": "markdown",
   "id": "a6b26683",
   "metadata": {},
   "source": [
    "**Assumptions made**: We assume that the total cost of an order is calculated by multiplying the order amount (**BillAmount**) by the quantity (**Quantity**).\n",
    "\n",
    "Thus, `Total Cost = BillAmount * Quantity`\n",
    "\n",
    "We then rounded the result up to 2 decimal places (assuming, again, that the data types of both variables are decimal)."
   ]
  },
  {
   "cell_type": "markdown",
   "id": "e1d9cd0a",
   "metadata": {},
   "source": [
    "#### Close database connection"
   ]
  },
  {
   "cell_type": "code",
   "execution_count": 28,
   "id": "e271e048",
   "metadata": {},
   "outputs": [
    {
     "name": "stdout",
     "output_type": "stream",
     "text": [
      "Closing database connection...\n",
      "Database connection closed!\n"
     ]
    }
   ],
   "source": [
    "#after running all queries, we close the database connection\n",
    "print(\"Closing database connection...\")\n",
    "connection.close()\n",
    "print(\"Database connection closed!\")"
   ]
  },
  {
   "cell_type": "code",
   "execution_count": null,
   "id": "a32813ca",
   "metadata": {},
   "outputs": [],
   "source": []
  }
 ],
 "metadata": {
  "kernelspec": {
   "display_name": "Python 3 (ipykernel)",
   "language": "python",
   "name": "python3"
  },
  "language_info": {
   "codemirror_mode": {
    "name": "ipython",
    "version": 3
   },
   "file_extension": ".py",
   "mimetype": "text/x-python",
   "name": "python",
   "nbconvert_exporter": "python",
   "pygments_lexer": "ipython3",
   "version": "3.9.12"
  },
  "varInspector": {
   "cols": {
    "lenName": 16,
    "lenType": 16,
    "lenVar": 40
   },
   "kernels_config": {
    "python": {
     "delete_cmd_postfix": "",
     "delete_cmd_prefix": "del ",
     "library": "var_list.py",
     "varRefreshCmd": "print(var_dic_list())"
    },
    "r": {
     "delete_cmd_postfix": ") ",
     "delete_cmd_prefix": "rm(",
     "library": "var_list.r",
     "varRefreshCmd": "cat(var_dic_list()) "
    }
   },
   "types_to_exclude": [
    "module",
    "function",
    "builtin_function_or_method",
    "instance",
    "_Feature"
   ],
   "window_display": false
  }
 },
 "nbformat": 4,
 "nbformat_minor": 5
}
