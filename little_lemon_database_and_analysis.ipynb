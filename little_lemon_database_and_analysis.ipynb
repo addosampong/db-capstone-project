{
 "cells": [
  {
   "cell_type": "markdown",
   "id": "266b3f5b",
   "metadata": {},
   "source": [
    "### Week 1"
   ]
  },
  {
   "cell_type": "markdown",
   "id": "687e1e82",
   "metadata": {},
   "source": [
    "#### Setting up the repo"
   ]
  },
  {
   "cell_type": "markdown",
   "id": "7b485525",
   "metadata": {},
   "source": [
    "The repo for the Project was set up in Github with the name **db-capstone-project** during this week. The repo was initialised for subsequent commits from the local machine on which actual development would be done to the remote repo on Github."
   ]
  },
  {
   "cell_type": "markdown",
   "id": "0b352604",
   "metadata": {},
   "source": [
    "#### Creating the MySQL server instance"
   ]
  },
  {
   "cell_type": "markdown",
   "id": "5598ae70",
   "metadata": {},
   "source": [
    "The MySQL server instance was created and configured for the database user account which would be used for interacting with the database. The connection was successfully tested. All other environment settings and configurations were done at this stage of the Project."
   ]
  },
  {
   "cell_type": "markdown",
   "id": "0fd07152",
   "metadata": {},
   "source": [
    "#### Create an ER diagram data model and implement it in MySQL"
   ]
  },
  {
   "cell_type": "markdown",
   "id": "26380801",
   "metadata": {},
   "source": [
    "#### Task 1: Create ER Diagram"
   ]
  },
  {
   "cell_type": "markdown",
   "id": "d9c1448c",
   "metadata": {},
   "source": [
    "We created a normalized ER diagram that adheres to 1NF, 2NF and 3NF with relevant relationships to meet the data requirements of Little Lemon. The tables in the ER diagram and their descriptions are given below:\n",
    "- Bookings: To store information about booked tables in the restaurant including booking id, date and table number.\n",
    "- Customers: To store information about the customer names and contact details.\n",
    "- Employees: To store information about stafff/employees at Little Lemon, including the role and salary of the employees.\n",
    "- Menu: To store information about cuisines\n",
    "- MenuItems: To store information about the menu courses.\n",
    "- Orders: To store information about each order such as order date, quantity and total cost.\n",
    "\n",
    "The ER diagram was exported and saved as **LittleLemonDM.png** in the repo.\n",
    "The resulting data model was also exported. It is named as **LittleLemonDM.mwb**.\n"
   ]
  },
  {
   "cell_type": "markdown",
   "id": "ad0f5778",
   "metadata": {},
   "source": [
    "#### Task 2: Implement the Little Lemon data model inside MySQL server\n",
    "Using the ER diagram thus created, we then implemented the schema of the database, as well as created the tables specified in the ER diagram. We did this by utilizing the **forward engineer** tool in MySQL Workbench. The resulting database was named **littlelemondb** in the MySQL Workbench. The database was subsequently exported to the Project repo. It is labeled as **littlelemondb.sql**"
   ]
  },
  {
   "cell_type": "markdown",
   "id": "a7e27b1f",
   "metadata": {},
   "source": [
    "#### Task 3: Show databases\n",
    "After setting up the data model and implementing the database with its associated tables, we wrote an SQL query to show all databases in MySQL Workbench. The result shows that our **littlelemondb** database was successfully created. \n",
    "A screenshot of the query is saved as **Databses showing the LittleLemonDB.png** in the Project repo."
   ]
  },
  {
   "cell_type": "markdown",
   "id": "52ac60e4",
   "metadata": {},
   "source": [
    "### Week 2"
   ]
  },
  {
   "cell_type": "markdown",
   "id": "9fa9198d",
   "metadata": {},
   "source": [
    "### Add sales reports"
   ]
  },
  {
   "cell_type": "markdown",
   "id": "86f85f7d",
   "metadata": {},
   "source": [
    "###  Create virtual tables to summarize data"
   ]
  },
  {
   "cell_type": "markdown",
   "id": "4c8fdc1d",
   "metadata": {},
   "source": [
    "#### Task 1: Create orders_veiw"
   ]
  },
  {
   "cell_type": "markdown",
   "id": "76378007",
   "metadata": {},
   "source": [
    "We created the **orders_veiw** virtual table in MySQL Workbench to extract the OrderID, Quantity and Costs associated with all orders that have order quantities greater than 2 from the Orders table. The SQL statements for the view is shown below:\n",
    "\n",
    "    USE littlelemonddb;\n",
    "    CREATE VIEW orders_view AS\n",
    "        SELECT OrderID AS 'Order ID',\n",
    "            Quantity AS 'Quantity',\n",
    "            ROUND((BillAmount * Quantity), 2) AS 'Cost'\n",
    "        FROM orders\n",
    "        WHERE (Quantity > 2);"
   ]
  },
  {
   "cell_type": "markdown",
   "id": "26c72de9",
   "metadata": {},
   "source": [
    "#### Task 2: Create customer_order_view\n",
    "We created the **customer_order_veiw** virtual table in MySQL Workbench to extract order details of customers with orders that cost more than $150. To do this, we joined about 5 tables. These tables have relationships between one or two of their columns with each other. The SQL statements for this view is shown below:\n",
    "\n",
    "    USE littlelemonddb;\n",
    "    CREATE VIEW customer_order_view AS\n",
    "        SELECT c.CustomerID AS 'Customer ID',\n",
    "            CONCAT(c.FirstName, ' ', c.LastName) AS 'Customer',\n",
    "            o.OrderID AS 'Order ID',\n",
    "            ROUND((o.BillAmount * o.Quantity), 2) AS 'Cost',\n",
    "            m.Cuisine AS 'Menu Name',\n",
    "            mi.Name AS 'Course Name'\n",
    "        FROM customers c\n",
    "            JOIN bookings b ON c.CustomerID = b.CustomerID\n",
    "            JOIN orders o ON b.BookingID = o.BookingID\n",
    "            JOIN menus m ON o.MenuID = m.MenuID\n",
    "            JOIN menuitems mi ON m.ItemID = mi.ItemID\n",
    "        WHERE (o.BillAmount * o.Quantity) > 150\n",
    "        ORDER BY o.BillAmount * o.Quantity;\n",
    "    \n",
    "    \n",
    "**Assumptions made**:\n",
    "We assume that the cost of an order is calculated by multiplying the order quantity by the bill amount.\n",
    "\n",
    "Hence, `Cost = BillAmount * Quantity`"
   ]
  },
  {
   "cell_type": "markdown",
   "id": "a98a715e",
   "metadata": {},
   "source": [
    "#### Task 3: Create menu_quantity_view\n",
    "We created the **menu_quantity_veiw** virtual table in MySQL Workbench to find all menu items for which more than 2 orders have been placed. \n",
    "To get the expected results, we joined 3 tables in the database. These tables have relationships between one or two of their columns with each other. The SQL statements for this view is shown below:\n",
    "\n",
    "    USE littlelemonddb;\n",
    "    CREATE VIEW menu_quantity_view AS\n",
    "        SELECT m.Cuisine AS 'Menu Name',\n",
    "            mi.Name AS 'Course Name',\n",
    "            o.Quantity AS 'Quantity'\n",
    "        FROM menuitems mi\n",
    "        JOIN menus m ON mi.ItemID = m.ItemID\n",
    "        JOIN orders o ON m.MenuID = o.MenuID\n",
    "        WHERE o.Quantity ANY (SELECT orders.Quantity\n",
    "                FROM orders\n",
    "                WHERE orders.Quantity > 2)\n",
    "        ORDER BY o.Quantity;"
   ]
  },
  {
   "cell_type": "markdown",
   "id": "c2454427",
   "metadata": {},
   "source": [
    "### Create optimized queries to manage and analyze data"
   ]
  },
  {
   "cell_type": "markdown",
   "id": "8c7f2bea",
   "metadata": {},
   "source": [
    "#### Task 1: Create GetMaxQuantity stored procedure"
   ]
  },
  {
   "cell_type": "markdown",
   "id": "016352df",
   "metadata": {},
   "source": [
    "This stored procedure displays the maximum ordered quantity in the Orders table. The SQL statements for the stored proceduer is shown below:\n",
    "\n",
    "    USE littlelemondb;\n",
    "    CREATE PROCEDURE 'GetOrderQuantity'()\n",
    "    BEGIN\n",
    "        SELECT MAX(Quantity) AS 'Max Quantity in Order'\n",
    "        FROM Orders;\n",
    "    END"
   ]
  },
  {
   "cell_type": "markdown",
   "id": "ec1a8a73",
   "metadata": {},
   "source": [
    "#### Task 2: Create GetOrderDetail prepared statement"
   ]
  },
  {
   "cell_type": "markdown",
   "id": "b7e230ca",
   "metadata": {},
   "source": [
    "This prepared statement which returns the order id, the quantity and the order cost from the Orders table. \n",
    "The prepared statement accepts one input argument, the CustomerID value, from a variable.  \n",
    "An aribtrary variable called **orderid** with a value of 1 was used to test/execute the prepared statement.\n",
    "The prepared statement was exported as an SQL script file. It is named as **Prepare Statement to get order detail.sql** in the Project repo. The prepared statement was also converted into a Stored Procedure in the littlelemondb database in the MySQL Workbench."
   ]
  },
  {
   "cell_type": "markdown",
   "id": "1e411179",
   "metadata": {},
   "source": [
    "#### Task 3: Create CancelOrder stored procedure"
   ]
  },
  {
   "cell_type": "markdown",
   "id": "267e464d",
   "metadata": {},
   "source": [
    "This procedure will allow Little Lemon to cancel any order by specifying the order id as parameter passed to the procedure. The SQL statements for this procedure is as shown below:\n",
    "\n",
    "    USE littlelemondb;\n",
    "    CREATE PROCEDURE CancelOrder (IN id INT)\n",
    "    BEGIN\n",
    "        #check Orders table to confirm if Order with OrderID is same as id (id specified by Little Lemon), then \n",
    "        #delete that order and display the appropriate message\n",
    "        \n",
    "        IF (SELECT exists (select 1 FROM Orders where OrderID = id) = 1) THEN\n",
    "            DELETE FROM Orders\n",
    "            WHERE OrderID = id;\n",
    "            SELECT CONCAT(\"Order with ID \", id, \" is cancelled\") AS \"Confirmation\";\n",
    "        ELSE\n",
    "            SELECT CONCAT(\"Order with ID \", id, \" is not a valid Order\") AS \"Confirmation\";\n",
    "        END IF;\n",
    "    END"
   ]
  },
  {
   "cell_type": "markdown",
   "id": "b75fd0f4",
   "metadata": {},
   "source": [
    "### Table booking system"
   ]
  },
  {
   "cell_type": "markdown",
   "id": "de2e89df",
   "metadata": {},
   "source": [
    "### Create SQL queries to check available bookings based on user input"
   ]
  },
  {
   "cell_type": "markdown",
   "id": "088b5558",
   "metadata": {},
   "source": [
    "#### Task 1: Populate Bookings table with data"
   ]
  },
  {
   "cell_type": "markdown",
   "id": "88465145",
   "metadata": {},
   "source": [
    "We used a simple **INSERT** statement to popluate the Bookings table with some sample data. This data can be viewed by running the `SELECT * FROM Bookings` SQL statement from the MySQL Workbench"
   ]
  },
  {
   "cell_type": "markdown",
   "id": "d2d2f0aa",
   "metadata": {},
   "source": [
    "#### Task 2: Create CheckBooking stored procedure"
   ]
  },
  {
   "cell_type": "markdown",
   "id": "f1d5eab6",
   "metadata": {},
   "source": [
    "The **CheckBooking** procedure checks whether a table in the restaurant is already booked. The procedure accepts two input parameters in the form of booking date and table number. The SQL statements for the procedure is shown below:\n",
    "\n",
    "    USE littlelemondb;\n",
    "    CREATE PROCEDURE CheckBooking(IN booking_date DATE, IN table_no INT)\n",
    "    BEGIN\n",
    "        #check Bookings table to confirm if there is a booking with BookingDate and TableNo same as the \n",
    "        #booking_date and table_no parameters supplied by the user, then display the appropriate message\n",
    "        \n",
    "        IF (SELECT exists (select 1 FROM Bookings WHERE BookingDate = booking_date) = 1) AND\n",
    "         (SELECT exists (select 1 FROM Bookings WHERE TableNo = table_no) = 1) THEN\n",
    "                SELECT CONCAT(\"Table \", table_no, \" is already booked for \", booking_date) AS \"Booking Status\";\n",
    "        ELSE\n",
    "            SELECT CONCAT(\"Table \", table_no, \" is not booked\") AS \"Booking Status\";\n",
    "        END IF;\n",
    "    END"
   ]
  },
  {
   "cell_type": "markdown",
   "id": "f16b1454",
   "metadata": {},
   "source": [
    "#### Task 3: Create AddValidBooking store procedure"
   ]
  },
  {
   "cell_type": "markdown",
   "id": "65d142c6",
   "metadata": {},
   "source": [
    "This procedure helps Little Lemon to verify a booking and decline any reservations for tables that are already booked under another name. This procedure accepts two input parameters in the form of booking date and table number. Since the there will be a number of statements to be executed in this procedure, which statements include insertions, we wrapped the statements around a `START TRANSACTION` statement and used the `ROLLBACK` and `COMMIT` statements where appropriate. For instance, if there is a booking for the booking date and table no supplied by the user, then the entire operations are rolled back, else the booking is inserted into the Bookings table and committed. The SQL statements for the procedure is as shown below:\n",
    "\n",
    "    USE littlelemondb;\n",
    "    CREATE PROCEDURE AddValidBooking(IN booking_date DATE, IN table_no INT)\n",
    "    BEGIN\n",
    "        START TRANSACTION;\n",
    "            #check Bookings table to confirm if there is a booking with BookingDate and TableNo same as the\n",
    "            #booking_date and table_no parameters supplied by the user, then display the appropriate message\n",
    "            #and roll back the transaction, else add the booking to the Bookings table and display the \n",
    "            #appropriate message\n",
    "\n",
    "            IF (SELECT exists (select 1 FROM Bookings WHERE BookingDate = booking_date) = 1) AND\n",
    "                    (SELECT exists (select 1 FROM Bookings WHERE TableNo = table_no) = 1) THEN\n",
    "                SELECT CONCAT(\"Table \", table_no, \" is already booked - booking cancelled\") AS \"Booking Status\";\n",
    "                ROLLBACK;\n",
    "            ELSE\n",
    "                SET @customer_id = 6, @employee_id = 6;\n",
    "                INSERT INTO Bookings(TableNo, CustomerID, BookingDate, BookingSlot, EmployeeID)\n",
    "                VALUES\n",
    "                (table_no, @customer_id, booking_date, CURRENT_TIME(), @employee_id );\n",
    "                SELECT CONCAT(\"Booking made for Table \", table_no) AS \"Booking Status\";\n",
    "                COMMIT;\n",
    "        END IF;\n",
    "\n",
    "    END"
   ]
  },
  {
   "cell_type": "markdown",
   "id": "183c7993",
   "metadata": {},
   "source": [
    "### Create SQL queries to add and update bookings"
   ]
  },
  {
   "cell_type": "markdown",
   "id": "91d37a45",
   "metadata": {},
   "source": [
    "#### Task 1: Create AddBooking stored procedure"
   ]
  },
  {
   "cell_type": "markdown",
   "id": "d98cbe86",
   "metadata": {},
   "source": [
    "This procedure adds a booking to the Bookings table. The procedure accepts four input parameters in the form of the following bookings parameters: booking id, customer id, booking date and table number. The SQL statements for this procedure is shown below:\n",
    "\n",
    "    USE littlelemondb;\n",
    "    CREATE `AddBooking`(IN booking_id INT, IN customer_id INT, IN booking_date DATE, IN table_no INT)\n",
    "    BEGIN\n",
    "        START TRANSACTION;\n",
    "            #check Bookings table to confirm if there is a booking with BookingID, CustomerID, BookingDate and\n",
    "            #TableNo same as the booking_id, customer_id, booking_date and table_no parameters supplied by the \n",
    "            #user. Then display the appropriate message and roll back the transaction, else add the booking to\n",
    "            #the Bookings table and display the appropriate message\n",
    "\n",
    "            IF (SELECT exists (select 1 FROM Bookings WHERE BookingDate = booking_date) = 1) AND\n",
    "                    (SELECT exists (select 1 FROM Bookings WHERE TableNo = table_no) = 1) THEN\n",
    "                SELECT CONCAT(\"Table \", table_no, \" is already booked - booking not added\") AS \"Confirmation\";\n",
    "                ROLLBACK;\n",
    "            ELSE\n",
    "                #arbirarily set the EmployeeID to 6 (Receptionist) for every new booking\n",
    "                SET @employee_id = 6;\n",
    "                INSERT INTO Bookings(TableNo, CustomerID, BookingDate, BookingSlot, EmployeeID)\n",
    "                VALUES\n",
    "                (table_no, customer_id, CURRENT_DATE(), CURRENT_TIME(), @employee_id );\n",
    "                SELECT CONCAT(\"Booking added for Table \", table_no) AS \"Confirmation\";\n",
    "                COMMIT;\n",
    "        END IF;\n",
    "\n",
    "    END\n",
    "\n",
    "**Assumptions made**: We assume that the if the booking will be added after checking the constraints, the current date and time that the booking is going to be added should be the BookingDate and BookingSlot, and these should be part of the data to be inserted into the Bookings table. We also assume that for every new booking, the first employee to receive the order is the Receptionist who has an EmployeeID of 6. "
   ]
  },
  {
   "cell_type": "markdown",
   "id": "64e9aba4",
   "metadata": {},
   "source": [
    "#### Task 2: Create UpdateBooking stored procedure"
   ]
  },
  {
   "cell_type": "markdown",
   "id": "4fbb6de6",
   "metadata": {},
   "source": [
    "The UpdateBooking procedure helps Little Lemon to update existing bookings in the Bookings table. The procedure accepts two input parameters in the form of booking id and booking date. The SQL statements for this procedure is shown below:\n",
    "\n",
    "    USE littlelemondb;\n",
    "    CREATE PROCEDURE `UpdateBooking`(IN booking_id INT, IN booking_date DATE)\n",
    "    BEGIN\n",
    "        START TRANSACTION;\n",
    "            #check Bookings table to confirm if there is a booking with BookingID and BookingDate same as the\n",
    "            #booking_id and booking_date parameters supplied by the user. Then display the appropriate message\n",
    "            #and roll back the transaction, else update the Bookings table as appropriate and display the\n",
    "            #appropriate message\n",
    "\n",
    "            IF (SELECT exists (select 1 FROM littlelemondb.Bookings WHERE BookingID = booking_id) = 1) AND\n",
    "               (SELECT exists (select 1 FROM littlelemondb.Bookings WHERE BookingDate = booking_date) = 1) THEN\n",
    "                SELECT CONCAT(\"No changes made to Booking \", booking_id) AS \"Confirmation\";\n",
    "                ROLLBACK;\n",
    "            ELSE\n",
    "                UPDATE Bookings\n",
    "                SET BookingDate = booking_date\n",
    "                WHERE BookingID = booking_id;\n",
    "                SELECT CONCAT(\"Booking \", booking_id, \" updated\") AS \"Confirmation\";\n",
    "                COMMIT;\n",
    "        END IF;\n",
    "    END"
   ]
  },
  {
   "cell_type": "markdown",
   "id": "c2e2a803",
   "metadata": {},
   "source": [
    "#### Task 3: Create CancelBooking stored procedure"
   ]
  },
  {
   "cell_type": "markdown",
   "id": "d2d34026",
   "metadata": {},
   "source": [
    "This procedure helps Little Lemon to cancel or remove a booking from the Bookings table. The procedure accepts one input parameter in the form of booking id. The SQL statements for the procedure is as shown below:\n",
    "\n",
    "    USE littlelemondb;\n",
    "    CREATE PROCEDURE `CancelBooking`(IN booking_id INT)\n",
    "    BEGIN\n",
    "        START TRANSACTION;\n",
    "            #check Bookings table to confirm if there is a booking with BookingID same as the booking_id\n",
    "            #parameter supplied by the user. Then delete the booking from the Bookings table and display\n",
    "            #the appropriate message, else roll back the transaction\n",
    "\n",
    "            IF (SELECT exists (select 1 FROM littlelemondb.Bookings WHERE BookingID = booking_id) = 1) THEN\n",
    "                DELETE FROM Bookings\n",
    "                WHERE BookingID = booking_id;\n",
    "                SELECT CONCAT(\"Booking\", booking_id, \" cancelled\") AS \"Confirmation\";\n",
    "                COMMIT;\n",
    "\n",
    "            ELSE\n",
    "                SELECT CONCAT(\"Booking\", booking_id, \" not found\") AS \"Confirmation\";\n",
    "                ROLLBACK;\n",
    "        END IF;\n",
    "    END"
   ]
  },
  {
   "cell_type": "markdown",
   "id": "5a3b11fa",
   "metadata": {},
   "source": [
    "### Week 3"
   ]
  },
  {
   "cell_type": "markdown",
   "id": "746366ef",
   "metadata": {},
   "source": [
    "### Data visualization"
   ]
  },
  {
   "cell_type": "markdown",
   "id": "b0432f36",
   "metadata": {},
   "source": [
    "### Set up the Tableau Workspace for data analysis"
   ]
  },
  {
   "cell_type": "markdown",
   "id": "c85f7b95",
   "metadata": {},
   "source": [
    "#### Task 1: Connect Little Lemon data to Tableau"
   ]
  },
  {
   "cell_type": "markdown",
   "id": "74cc0e10",
   "metadata": {},
   "source": [
    "We loaded the Little Lemon data in Microsoft Excel format inot Tableau. During the data loading process, we filtered out data for all countries leaving only USA for the analysis. This means that we will be doing the data analysis for only USA customers."
   ]
  },
  {
   "cell_type": "markdown",
   "id": "7fa5f324",
   "metadata": {},
   "source": [
    "#### Task 2: Create two new data fields"
   ]
  },
  {
   "cell_type": "markdown",
   "id": "af996ee6",
   "metadata": {},
   "source": [
    "After loading the Little Lemon data into Tableau, we then split the **Customer Name** column into two separate fields. We renamed the two new columns as **First Name** and **Last Name**"
   ]
  },
  {
   "cell_type": "markdown",
   "id": "e135afb4",
   "metadata": {},
   "source": [
    "#### Task 3: Create Profit column"
   ]
  },
  {
   "cell_type": "markdown",
   "id": "d9acfc28",
   "metadata": {},
   "source": [
    "To get a **Profit** field in the dataset for analysis purposes, we created a **Calculated Field** in Tableau from the **Sales** column. We did this by selecting the **Sales** column and selecting the **Create --> Calculated Field...** option, then calcuted the profit as follows:\n",
    "\n",
    "    [Sales] - [Cost]\n",
    "\n",
    "This formula substracts the cost price of every order from the order's sale price to give the profit on that order.\n",
    "We then renamed the resulting column **Profit**."
   ]
  },
  {
   "cell_type": "markdown",
   "id": "91bd2a51",
   "metadata": {},
   "source": [
    "### Create interactive dashboard for sales and profits"
   ]
  },
  {
   "cell_type": "markdown",
   "id": "7a4afc02",
   "metadata": {},
   "source": [
    "#### Task 1: Create a bar chart of sales"
   ]
  },
  {
   "cell_type": "markdown",
   "id": "4091d5ef",
   "metadata": {},
   "source": [
    "To create the bar chart of sales greater than or equal to `$70` for each customer, we dropped the **Sales** column on **Rows** at the shelves section of Tableau and the **Customer Name** column on **Columns** at the shelves section. We then filtered **Sales** for sales greater than or equal to `$70` by dropping the **Sales** column on the **Filters** pane of Tableau, then applied a filter of **At least** 70 to get all sales greater than or equal to `$70`.\n",
    "\n",
    "We also applied a color scheme to the bar chart by dropping the **Sales** column to the **Color** section in the **Marks** pane of Tableau.\n",
    "\n",
    "We sorted the charts in descending order in order to give an aesthetic appearance of the bar chart.\n",
    "\n",
    "The **Tooltip** was applied automatically. This has the effect of a pop-up of the customer's name and total sales made by that customer when a user hovers the mouse over the bar chart."
   ]
  },
  {
   "cell_type": "markdown",
   "id": "cf09cb1a",
   "metadata": {},
   "source": [
    "#### Task 2: Create a line chart of profits"
   ]
  },
  {
   "cell_type": "markdown",
   "id": "e6581080",
   "metadata": {},
   "source": [
    "To create the line chart of profits trend from 2019 to 2022, we dropped the **Profit** column on **Rows** at the shelves section of Tableau and the **Order Date** column on **Columns** at the shelves section. We filtered out year 2023 from the **Order Date**.\n",
    "\n",
    "We also applied a color scheme to the line chart by dropping the **Profit** column to the **Color** section in the **Marks** pane of Tableau.\n",
    "\n",
    "The Tooltip was applied automatically. This has the effect of a pop-up of the year of order date and total profit made in that year when a user hovers the mouse over the line chart."
   ]
  },
  {
   "cell_type": "markdown",
   "id": "7799aadf",
   "metadata": {},
   "source": [
    "#### Task 3: Create bubble chart"
   ]
  },
  {
   "cell_type": "markdown",
   "id": "98a7721f",
   "metadata": {},
   "source": [
    "To create the chart chart of customers and the sales made by them as well as the profits made from them, we dropped the **Sales** column on **Rows** at the shelves section of Tableau and the **Customer Name** column on **Columns** at the shelves section. In the **Marks** pane, we selected **Circle** in order to create the bubbles. In the **Show Me** section of Tableau at the upper right corner, we selected the **packed bubbles** option, then dropped the **Sales** column on the **Size** option in the **Marks** pane.\n",
    "\n",
    "To display the customers' names on the bubbles, we dropped the **Customer Name** column on the **Label** option in the **Marks** pane.\n",
    "\n",
    "We also applied a color scheme to the line chart by dropping the **Sales** column to the **Color** section in the **Marks** pane of Tableau.\n",
    "\n",
    "We also dropped the **Customer Name**, **Sales** and **Profit** columns on the **Tooltip** option in the **Marks** pane in order to apply those information as a tootip on the bubbles. This has the effect of a pop-up of the customer name, sales made by the customer and total profit made from that customer when a user hovers the mouse over the bubble chart."
   ]
  },
  {
   "cell_type": "markdown",
   "id": "19020dce",
   "metadata": {},
   "source": [
    "#### Task 4: Compare sales of 3 different cuisines"
   ]
  },
  {
   "cell_type": "markdown",
   "id": "b492b386",
   "metadata": {},
   "source": [
    "To compare the sales and profits of the 3 different cuisines, we dropped the **Cuisine Name** and **Order Date** columns on **Columns** at the shelves section of Tableau and the **Sales** columns on **Rows** at the shelves section. We filtered out years 2019 and 2023 from the **Order Date**.\n",
    "\n",
    "We applied an appropriate color scheme to the line chart by dropping the **Sales** column to the **Color** section in the **Marks** pane of Tableau. We also sorted the bar charts in derscending order of profits.\n",
    "\n",
    "To display the profit on each cuisine, we dropped the **Profit** column on the **Label** option in the **Marks** pane.\n",
    "\n",
    "We also dropped the **Cuisine Name**, **Order Date**, **Sales** and **Profit** columns on the **Tooltip** option in the **Marks** pane in order to apply those information as a tootip on the charts whenever a user hovers the mouse over the charts."
   ]
  },
  {
   "cell_type": "markdown",
   "id": "413f594b",
   "metadata": {},
   "source": [
    "#### Task 5: Create an interactive dashboard"
   ]
  },
  {
   "cell_type": "markdown",
   "id": "99ecdb13",
   "metadata": {},
   "source": [
    "To create the and interactive dashboard of the Customers Sales bar chart and the Sales bubble chart, we selected the **Dashboard** option, then dragged and dropped the **Customers Sales** and **Sales Bubble Chart** worksheets on the Dashboard.\n",
    "\n",
    "To create an interactive link between the two worksheets, we selected the **Use as filter** option on the **Customers Sales** worksheet. Thus, when a user selects a customer's bar chart on the **Customers Sales** worksheet, the customer's bubble is displayed in the **Sales Bubble Chart** worksheet below.\n",
    "\n",
    "When a user hovers the mouse over the customer's bubble in the **Sales Bubble Chart** worksheet in the Dashboard, the customer's name, sales made by them and the profit made from them appear as a tooltip."
   ]
  },
  {
   "cell_type": "markdown",
   "id": "b3c358c7",
   "metadata": {},
   "source": [
    "#### Tableau workbook"
   ]
  },
  {
   "cell_type": "markdown",
   "id": "9fd64486",
   "metadata": {},
   "source": [
    "The Tableau workbook for all the worksheets and dashboard is saved in the Project repo as **LittleLemon.twbx**"
   ]
  }
 ],
 "metadata": {
  "kernelspec": {
   "display_name": "Python 3 (ipykernel)",
   "language": "python",
   "name": "python3"
  },
  "language_info": {
   "codemirror_mode": {
    "name": "ipython",
    "version": 3
   },
   "file_extension": ".py",
   "mimetype": "text/x-python",
   "name": "python",
   "nbconvert_exporter": "python",
   "pygments_lexer": "ipython3",
   "version": "3.9.12"
  },
  "varInspector": {
   "cols": {
    "lenName": 16,
    "lenType": 16,
    "lenVar": 40
   },
   "kernels_config": {
    "python": {
     "delete_cmd_postfix": "",
     "delete_cmd_prefix": "del ",
     "library": "var_list.py",
     "varRefreshCmd": "print(var_dic_list())"
    },
    "r": {
     "delete_cmd_postfix": ") ",
     "delete_cmd_prefix": "rm(",
     "library": "var_list.r",
     "varRefreshCmd": "cat(var_dic_list()) "
    }
   },
   "types_to_exclude": [
    "module",
    "function",
    "builtin_function_or_method",
    "instance",
    "_Feature"
   ],
   "window_display": false
  }
 },
 "nbformat": 4,
 "nbformat_minor": 5
}
