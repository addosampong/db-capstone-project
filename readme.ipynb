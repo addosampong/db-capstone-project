{
 "cells": [
  {
   "cell_type": "markdown",
   "id": "178cbdb3",
   "metadata": {},
   "source": [
    "# Capstone Project for Meta's Database Engineer Professional Course\n",
    "\n",
    "\n",
    "## Author: Evans Addo-Sampong"
   ]
  },
  {
   "cell_type": "markdown",
   "id": "39e8a142",
   "metadata": {},
   "source": [
    "### Project Description: Design a complete database for Little Lemon.\n",
    "Specifically, design the following:\n",
    "- A data model using an Entity Relationship Diagram with relevant relationships to meet the data requirements of Little Lemon using MySQL Workbench\n",
    "- Create the database schema and tables from the data model designed in point 1 above using MySQL Workbench\n",
    "- Write MySQL statements to create Views, Stored Procedures, Prepared Statements, etc. to create a menu booking system for Little Lemon, generate sales reports, and automate bookings (add bookings, cancel bookings, update bookings, etc.)"
   ]
  },
  {
   "cell_type": "markdown",
   "id": "cf58e611",
   "metadata": {},
   "source": [
    "### Organization of the Project\n",
    "The Project is organized according to Tasks per the weekly schedule of the course. In view of that, the progression of the Project will be outlined in this **README** according to this weekly tasks schedule."
   ]
  },
  {
   "cell_type": "markdown",
   "id": "58741acb",
   "metadata": {},
   "source": [
    "### Week 1"
   ]
  },
  {
   "cell_type": "markdown",
   "id": "50fd196f",
   "metadata": {},
   "source": [
    "#### Setting up the repo"
   ]
  },
  {
   "cell_type": "markdown",
   "id": "2809d5fe",
   "metadata": {},
   "source": [
    "The repo for the Project was set up in Github with the name **db-capstone-project** during this week. The repo was initialised for subsequent commits from the local machine on which actual development would be done to the remote repo on Github."
   ]
  },
  {
   "cell_type": "markdown",
   "id": "9163d4ab",
   "metadata": {},
   "source": [
    "#### Creating the MySQL server instance"
   ]
  },
  {
   "cell_type": "markdown",
   "id": "61af0422",
   "metadata": {},
   "source": [
    "The MySQL server instance was created and configured for the database user account which would be used for interacting with the database. The connection was successfully tested. All other environment settings and configurations were done at this stage of the Project."
   ]
  },
  {
   "cell_type": "markdown",
   "id": "4d00f248",
   "metadata": {},
   "source": [
    "#### Create an ER diagram data model and implement it in MySQL"
   ]
  },
  {
   "cell_type": "markdown",
   "id": "4293a6e6",
   "metadata": {},
   "source": [
    "#### Task 1: Create ER Diagram"
   ]
  },
  {
   "cell_type": "markdown",
   "id": "48bbe000",
   "metadata": {},
   "source": [
    "We created a normalized ER diagram that adheres to 1NF, 2NF and 3NF with relevant relationships to meet the data requirements of Little Lemon. The tables in the ER diagram and their descriptions are given below:\n",
    "- Bookings: To store information about booked tables in the restaurant including booking id, date and table number.\n",
    "- Customers: To store information about the customer names and contact details.\n",
    "- Employees: To store information about stafff/employees at Little Lemon, including the role and salary of the employees.\n",
    "- Menu: To store information about cuisines\n",
    "- MenuItems: To store information about the menu courses.\n",
    "- Orders: To store information about each order such as order date, quantity and total cost.\n",
    "\n",
    "The ER diagram was exported and saved as **LittleLemonDM.png** in the repo.\n",
    "The resulting data model was also exported. It is named as **LittleLemonDM.mwb**.\n"
   ]
  },
  {
   "cell_type": "markdown",
   "id": "e1930687",
   "metadata": {},
   "source": [
    "#### Task 2: Implement the Little Lemon data model inside MySQL server\n",
    "Using the ER diagram thus created, we then implemented the schema of the database, as well as created the tables specified in the ER diagram. We did this by utilizing the **forward engineer** tool in MySQL Workbench. The resulting database was named **littlelemondb** in the MySQL Workbench. The database was subsequently exported to the Project repo. It is labeled as **littlelemondb.sql**"
   ]
  },
  {
   "cell_type": "markdown",
   "id": "4a108b2f",
   "metadata": {},
   "source": [
    "#### Task 3: Show databases\n",
    "After setting up the data model and implementing the database with its associated tables, we wrote an SQL query to show all databases in MySQL Workbench. The result shows that our **littlelemondb** database was successfully created. \n",
    "A screenshot of the query is saved as **Databses showing the LittleLemonDB.png** in the Project repo."
   ]
  },
  {
   "cell_type": "markdown",
   "id": "e687fda5",
   "metadata": {},
   "source": [
    "### Week 2"
   ]
  },
  {
   "cell_type": "markdown",
   "id": "8d3b77e3",
   "metadata": {},
   "source": [
    "### Add sales reports"
   ]
  },
  {
   "cell_type": "markdown",
   "id": "76da260e",
   "metadata": {},
   "source": [
    "###  Create virtual tables to summarize data"
   ]
  },
  {
   "cell_type": "markdown",
   "id": "cb1056b6",
   "metadata": {},
   "source": [
    "#### Task 1: Create orders_veiw"
   ]
  },
  {
   "cell_type": "markdown",
   "id": "17f2de3f",
   "metadata": {},
   "source": [
    "We created the **orders_veiw** virtual table in MySQL Workbench to extract the OrderID, Quantity and Costs associated with all orders that have order quantities greater than 2 from the Orders table. The SQL statements for the view is shown below:\n",
    "\n",
    "`USE littlelemonddb;\n",
    "CREATE VIEW orders_view AS\n",
    "    SELECT OrderID AS 'Order ID',\n",
    "        Quantity AS 'Quantity',\n",
    "        ROUND((BillAmount * Quantity), 2) AS 'Cost'\n",
    "    FROM orders\n",
    "    WHERE (Quantity > 2);`"
   ]
  },
  {
   "cell_type": "markdown",
   "id": "5caa4eff",
   "metadata": {},
   "source": [
    "#### Task 2: Create customer_order_view\n",
    "We created the **customer_order_veiw** virtual table in MySQL Workbench to extract order details of customers with orders that cost more than $150. To do this, we joined about 5 tables. These tables have relationships between one or two of their columns with each other. The SQL statements for this view is shown below:\n",
    "\n",
    "`USE littlelemonddb;\n",
    "CREATE VIEW customer_order_view AS\n",
    "    SELECT c.CustomerID AS 'Customer ID',\n",
    "        CONCAT(c.FirstName, ' ', c.LastName) AS 'Customer',\n",
    "        o.OrderID AS 'Order ID',\n",
    "        ROUND((o.BillAmount * o.Quantity), 2) AS 'Cost',\n",
    "        m.Cuisine AS 'Menu Name',\n",
    "        mi.Name AS 'Course Name'\n",
    "    FROM customers c\n",
    "        JOIN bookings b ON c.CustomerID = b.CustomerID\n",
    "        JOIN orders o ON b.BookingID = o.BookingID\n",
    "        JOIN menus m ON o.MenuID = m.MenuID\n",
    "        JOIN menuitems mi ON m.ItemID = mi.ItemID\n",
    "    WHERE (o.BillAmount * o.Quantity) > 150\n",
    "    ORDER BY o.BillAmount * o.Quantity;`\n",
    "    \n",
    "    \n",
    "**Assumptions made**:\n",
    "We assume that the cost of an order is calculated by multiplying the order quantity by the bill amount. Hence,\n",
    "\n",
    "`Cost = BillAmount * Quantity`"
   ]
  },
  {
   "cell_type": "markdown",
   "id": "5ef3bc26",
   "metadata": {},
   "source": [
    "#### Task 3: Create menu_quantity_view\n",
    "We created the **menu_quantity_veiw** virtual table in MySQL Workbench to find all menu items for which more than 2 orders have been placed. \n",
    "To get the expected results, we joined 3 tables in the database. These tables have relationships between one or two of their columns with each other. The SQL statements for this view is shown below:\n",
    "\n",
    "\n",
    "`USE littlelemonddb;\n",
    "CREATE VIEW menu_quantity_view AS\n",
    "    SELECT m.Cuisine AS 'Menu Name',\n",
    "        mi.Name AS 'Course Name',\n",
    "        o.Quantity AS 'Quantity'\n",
    "    FROM menuitems mi\n",
    "    JOIN menus m ON mi.ItemID = m.ItemID\n",
    "    JOIN orders o ON m.MenuID = o.MenuID\n",
    "    WHERE o.Quantity ANY (SELECT orders.Quantity\n",
    "            FROM orders\n",
    "            WHERE orders.Quantity > 2)\n",
    "    ORDER BY o.Quantity;`"
   ]
  },
  {
   "cell_type": "markdown",
   "id": "f47b478f",
   "metadata": {},
   "source": [
    "### Create optimized queries to manage and analyze data"
   ]
  },
  {
   "cell_type": "markdown",
   "id": "7e571a7a",
   "metadata": {},
   "source": [
    "#### Task 1: Create GetMaxQuantity stored procedure"
   ]
  },
  {
   "cell_type": "markdown",
   "id": "3a024c19",
   "metadata": {},
   "source": [
    "This stored procedure displays the maximum ordered quantity in the Orders table. The SQL statements for the stored proceduer is shown below:\n",
    "\n",
    "`USE littlelemondb;\n",
    "CREATE PROCEDURE 'GetOrderQuantity'()\n",
    "BEGIN\n",
    "    SELECT MAX(Quantity) AS 'Max Quantity in Order'\n",
    "    FROM Orders;\n",
    "END\n",
    "`"
   ]
  },
  {
   "cell_type": "markdown",
   "id": "13e53144",
   "metadata": {},
   "source": [
    "#### Task 2: Create GetOrderDetail prepared statement"
   ]
  },
  {
   "cell_type": "markdown",
   "id": "bad005f8",
   "metadata": {},
   "source": [
    "This prepared statement which returns the order id, the quantity and the order cost from the Orders table. \n",
    "The prepared statement accepts one input argument, the CustomerID value, from a variable.  \n",
    "An aribtrary variable called **orderid** with a value of 1 was used to test/execute the prepared statement.\n",
    "The prepared statement was exported as an SQL script file. It is named as **Prepare Statement to get order detail.sql** in the Project repo. The prepared statement was also converted into a Stored Procedure in the littlelemondb database in the MySQL Workbench."
   ]
  },
  {
   "cell_type": "markdown",
   "id": "371d0757",
   "metadata": {},
   "source": [
    "#### Task 3: Create CancelOrder stored procedure"
   ]
  },
  {
   "cell_type": "markdown",
   "id": "83c9d78e",
   "metadata": {},
   "source": [
    "This procedure will allow Little Lemon to cancel any order by specifying the order id as parameter passed to the procedure. The SQL statements for this procedure is as shown below:\n",
    "\n",
    "`USE littlelemondb;\n",
    "CREATE PROCEDURE CancelOrder (IN id INT)\n",
    "BEGIN\n",
    "    #check Orders table to confirm if Order with OrderID is same id (id specified by Little Lemon), then delete that\n",
    "    #order and display the appropriate message\n",
    "\tIF (SELECT exists (select 1 FROM Orders where OrderID = id) = 1) THEN\n",
    "    \tDELETE FROM Orders\n",
    "\t    WHERE OrderID = id;\n",
    "\t\tSELECT CONCAT(\"Order with ID \", id, \" is cancelled\") AS \"Confirmation\";\n",
    "\tELSE\n",
    "\t\tSELECT CONCAT(\"Order with ID \", id, \" is not a valid Order\") AS \"Confirmation\";\n",
    "\tEND IF;\n",
    "END`"
   ]
  },
  {
   "cell_type": "markdown",
   "id": "d8d42a32",
   "metadata": {},
   "source": [
    "### Table booking system"
   ]
  },
  {
   "cell_type": "markdown",
   "id": "9a87f1cd",
   "metadata": {},
   "source": [
    "### Create SQL queries to check available bookings based on user input"
   ]
  },
  {
   "cell_type": "markdown",
   "id": "8e1f0c91",
   "metadata": {},
   "source": [
    "#### Task 1: Populate Bookings table with data"
   ]
  },
  {
   "cell_type": "markdown",
   "id": "00d5bb0d",
   "metadata": {},
   "source": [
    "We used a simple **INSERT** statement to popluate the Bookings table with some sample data. This data can be viewed by running the `SELECT * FROM Bookings` SQL statement from the MySQL Workbench"
   ]
  },
  {
   "cell_type": "markdown",
   "id": "10bedf2b",
   "metadata": {},
   "source": [
    "#### Task 2: Create CheckBooking stored procedure"
   ]
  },
  {
   "cell_type": "markdown",
   "id": "8e932a8c",
   "metadata": {},
   "source": [
    "The **CheckBooking** procedure checks whether a table in the restaurant is already booked. The procedure accepts two input parameters in the form of booking date and table number. The SQL statements for the procedure is shown below:\n",
    "\n",
    "`USE littlelemondb;\n",
    "CREATE PROCEDURE CheckBooking(IN booking_date DATE, IN table_no INT)\n",
    "BEGIN\n",
    "    #check Bookings table to confirm if there is a booking with BookingDate and TableNo same as the booking_date and\n",
    "    #table_no parameters supplied by the user, then display the appropriate message\n",
    "    IF (SELECT exists (select 1 FROM Bookings WHERE BookingDate = booking_date) = 1) AND\n",
    "     (SELECT exists (select 1 FROM Bookings WHERE TableNo = table_no) = 1) THEN\n",
    "            SELECT CONCAT(\"Table \", table_no, \" is already booked for \", booking_date) AS \"Booking Status\";\n",
    "    ELSE\n",
    "        SELECT CONCAT(\"Table \", table_no, \" is not booked\") AS \"Booking Status\";\n",
    "    END IF;\n",
    "END`"
   ]
  },
  {
   "cell_type": "markdown",
   "id": "fa0cd2fb",
   "metadata": {},
   "source": [
    "#### Task 3: Create AddValidBooking store procedure"
   ]
  },
  {
   "cell_type": "raw",
   "id": "96f32b48",
   "metadata": {},
   "source": [
    "This procedure helps Little Lemon to verify a booking and decline any reservations for tables that are already booked under another name. This procedure accepts two input parameters in the form of booking date and table number. Since the there will be a number of statements to be executed in this procedure, which statements include insertions, we wrapped the statements around a `START TRANSACTION` statement and used the `ROLLBACK` and `COMMIT` statements where appropriate. For instance, if there is a booking for the booking date and table no supplied by the user, then the entire operations are rolled back, else the booking is inserted into the Bookings table and committed. The SQL statements for the procedure is as shown below:\n",
    "\n",
    "USE littlelemondb;\n",
    "CREATE PROCEDURE AddValidBooking(IN booking_date DATE, IN table_no INT)\n",
    "BEGIN\n",
    "\tSTART TRANSACTION;\n",
    "        #check Bookings table to confirm if there is a booking with BookingDate and TableNo same as the\n",
    "        #booking_date and table_no parameters supplied by the user, then display the appropriate message and roll back\n",
    "        #the transaction, else add the booking to the Bookings table and display the appropriate message\n",
    "\t\tIF (SELECT exists (select 1 FROM Bookings WHERE BookingDate = booking_date) = 1) AND\n",
    "\t\t\t\t(SELECT exists (select 1 FROM Bookings WHERE TableNo = table_no) = 1) THEN\n",
    "\t\t\tSELECT CONCAT(\"Table \", table_no, \" is already booked - booking cancelled\") AS \"Booking Status\";\n",
    "\t\tROLLBACK;\n",
    "\t\tELSE\n",
    "\t\t\tSET @customer_id = 6, @employee_id = 6;\n",
    "\t\t\tINSERT INTO Bookings(TableNo, CustomerID, BookingDate, BookingSlot, EmployeeID)\n",
    "            VALUES\n",
    "            (table_no, @customer_id, booking_date, CURRENT_TIME(), @employee_id );\n",
    "\t\t\tSELECT CONCAT(\"Booking made for Table \", table_no) AS \"Booking Status\";\n",
    "\t\t\tCOMMIT;\n",
    "\tEND IF;\n",
    "\n",
    "END"
   ]
  },
  {
   "cell_type": "markdown",
   "id": "2b2da31a",
   "metadata": {},
   "source": [
    "### Create SQL queries to add and update bookings"
   ]
  },
  {
   "cell_type": "markdown",
   "id": "d9d1ec51",
   "metadata": {},
   "source": [
    "#### Task 1: Create AddBooking stored procedure"
   ]
  },
  {
   "cell_type": "raw",
   "id": "7f21b580",
   "metadata": {},
   "source": [
    "This procedure adds a booking to the Bookings table. The procedure accepts four input parameters in the form of the following bookings parameters: booking id, customer id, booking date and table number. The SQL statements for this procedure is shown below:\n",
    "\n",
    "\n",
    "USE littlelemondb;\n",
    "CREATE `AddBooking`(IN booking_id INT, IN customer_id INT, IN booking_date DATE, IN table_no INT)\n",
    "BEGIN\n",
    "\tSTART TRANSACTION;\n",
    "        #check Bookings table to confirm if there is a booking with BookingID, CustomerID, BookingDate and TableNo\n",
    "        #same as the booking_id, customer_id, booking_date and table_no parameters supplied by the user, then\n",
    "        #display the appropriate message and roll back the transaction, else add the booking to the Bookings table and\n",
    "        #display the appropriate message\n",
    "\t\tIF (SELECT exists (select 1 FROM Bookings WHERE BookingDate = booking_date) = 1) AND\n",
    "\t\t\t\t(SELECT exists (select 1 FROM Bookings WHERE TableNo = table_no) = 1) THEN\n",
    "\t\t\tSELECT CONCAT(\"Table \", table_no, \" is already booked - booking not added\") AS \"Confirmation\";\n",
    "\t\tROLLBACK;\n",
    "\t\tELSE\n",
    "\t\t\tSET @employee_id = 6;\n",
    "\t\t\tINSERT INTO Bookings(TableNo, CustomerID, BookingDate, BookingSlot, EmployeeID)\n",
    "            VALUES\n",
    "            (table_no, customer_id, CURRENT_DATE(), CURRENT_TIME(), @employee_id );\n",
    "\t\t\tSELECT CONCAT(\"Booking added for Table \", table_no) AS \"Confirmation\";\n",
    "\t\t\tCOMMIT;\n",
    "\tEND IF;\n",
    "\n",
    "END\n",
    "\n",
    "**Assumptions made**\n",
    "We assume that the if the booking will be added after checking the constraints, the current data and time that the booking is going to be added should be the BookingDate and BookingSlot, and these should be part of the data to be inserted into the Bookings table"
   ]
  },
  {
   "cell_type": "markdown",
   "id": "0ce25d9a",
   "metadata": {},
   "source": [
    "#### Task 2: Create UpdateBooking stored procedure"
   ]
  },
  {
   "cell_type": "raw",
   "id": "32fb4dfa",
   "metadata": {},
   "source": [
    "The UpdateBooking procedure helps Little Lemon to update existing bookings in the Bookings table. The procedure accepts two input parameters in the form of booking id and booking date. The SQL statements for this procedure is shown below:\n",
    "\n",
    "USE littlelemondb;\n",
    "CREATE PROCEDURE `UpdateBooking`(IN booking_id INT, IN booking_date DATE)\n",
    "BEGIN\n",
    "\tSTART TRANSACTION;\n",
    "        #check Bookings table to confirm if there is a booking with BookingID and BookingDate same as the booking_id,\n",
    "        #and booking_date parameters supplied by the user, then display the appropriate message and roll back the\n",
    "        #transaction, else update the Bookings table as appropriate and display the appropriate message\n",
    "        \n",
    "\t\tIF (SELECT exists (select 1 FROM littlelemondb.Bookings WHERE BookingID = booking_id) = 1) AND\n",
    "\t\t\t\t(SELECT exists (select 1 FROM littlelemondb.Bookings WHERE BookingDate = booking_date) = 1) THEN\n",
    "\t\t\tSELECT CONCAT(\"No changes made to Booking \", booking_id) AS \"Confirmation\";\n",
    "\t\tROLLBACK;\n",
    "\t\tELSE\n",
    "\t\t\tUPDATE Bookings\n",
    "            SET BookingDate = booking_date\n",
    "            WHERE BookingID = booking_id;\n",
    "\t\t\tSELECT CONCAT(\"Booking \", booking_id, \" updated\") AS \"Confirmation\";\n",
    "\t\t\tCOMMIT;\n",
    "\tEND IF;\n",
    "END"
   ]
  },
  {
   "cell_type": "markdown",
   "id": "7676f88f",
   "metadata": {},
   "source": [
    "#### Task 3: Create CancelBooking stored procedure"
   ]
  },
  {
   "cell_type": "raw",
   "id": "1ebc41ec",
   "metadata": {},
   "source": [
    "This procedure helps Little Lemon to cancel or remove a booking from the Bookings table. The procedure accepts one input parameter in the form of booking id. The SQL statements for the procedure is as shown below:\n",
    "\n",
    "USE littlelemondb;\n",
    "CREATE DEFINER=`root`@`localhost` PROCEDURE `CancelBooking`(IN booking_id INT)\n",
    "BEGIN\n",
    "\tSTART TRANSACTION;\n",
    "        #check Bookings table to confirm if there is a booking with BookingID same as the booking_id\n",
    "        #parameter supplied by the user, then delete the booking from the Bookings table and display the appropriate\n",
    "        #message, else roll back the transaction\n",
    "        \n",
    "\t\tIF (SELECT exists (select 1 FROM littlelemondb.Bookings WHERE BookingID = booking_id) = 1) THEN\n",
    "\t\t\tDELETE FROM Bookings\n",
    "            WHERE BookingID = booking_id;\n",
    "\t\t\tSELECT CONCAT(\"Booking\", booking_id, \" cancelled\") AS \"Confirmation\";\n",
    "            COMMIT;\n",
    "\t\t\n",
    "\t\tELSE\n",
    "\t\t\tSELECT CONCAT(\"Booking\", booking_id, \" not found\") AS \"Confirmation\";\n",
    "\t\t\tROLLBACK;\n",
    "\tEND IF;\n",
    "END"
   ]
  },
  {
   "cell_type": "markdown",
   "id": "51b27be6",
   "metadata": {},
   "source": [
    "### Week 3"
   ]
  },
  {
   "cell_type": "markdown",
   "id": "20b08510",
   "metadata": {},
   "source": [
    "### Data visualization"
   ]
  },
  {
   "cell_type": "markdown",
   "id": "2a65e1c4",
   "metadata": {},
   "source": [
    "### Set up the Tableau Workspace for data analysis"
   ]
  },
  {
   "cell_type": "code",
   "execution_count": null,
   "id": "b4c83d11",
   "metadata": {},
   "outputs": [],
   "source": []
  }
 ],
 "metadata": {
  "kernelspec": {
   "display_name": "Python 3 (ipykernel)",
   "language": "python",
   "name": "python3"
  },
  "language_info": {
   "codemirror_mode": {
    "name": "ipython",
    "version": 3
   },
   "file_extension": ".py",
   "mimetype": "text/x-python",
   "name": "python",
   "nbconvert_exporter": "python",
   "pygments_lexer": "ipython3",
   "version": "3.9.12"
  },
  "varInspector": {
   "cols": {
    "lenName": 16,
    "lenType": 16,
    "lenVar": 40
   },
   "kernels_config": {
    "python": {
     "delete_cmd_postfix": "",
     "delete_cmd_prefix": "del ",
     "library": "var_list.py",
     "varRefreshCmd": "print(var_dic_list())"
    },
    "r": {
     "delete_cmd_postfix": ") ",
     "delete_cmd_prefix": "rm(",
     "library": "var_list.r",
     "varRefreshCmd": "cat(var_dic_list()) "
    }
   },
   "types_to_exclude": [
    "module",
    "function",
    "builtin_function_or_method",
    "instance",
    "_Feature"
   ],
   "window_display": false
  }
 },
 "nbformat": 4,
 "nbformat_minor": 5
}
